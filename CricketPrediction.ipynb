{
  "nbformat": 4,
  "nbformat_minor": 0,
  "metadata": {
    "colab": {
      "name": "CricketPrediction.ipynb",
      "provenance": [],
      "authorship_tag": "ABX9TyNNZZuFuxpWoXKVAdw+tZQH",
      "include_colab_link": true
    },
    "kernelspec": {
      "name": "python3",
      "display_name": "Python 3"
    }
  },
  "cells": [
    {
      "cell_type": "markdown",
      "metadata": {
        "id": "view-in-github",
        "colab_type": "text"
      },
      "source": [
        "<a href=\"https://colab.research.google.com/github/AbhishekJoshi93/CricketPrediction/blob/master/CricketPrediction.ipynb\" target=\"_parent\"><img src=\"https://colab.research.google.com/assets/colab-badge.svg\" alt=\"Open In Colab\"/></a>"
      ]
    },
    {
      "cell_type": "code",
      "metadata": {
        "id": "ph17EiuysWE0",
        "colab_type": "code",
        "colab": {}
      },
      "source": [
        "import numpy as np\n",
        "import pandas as pd"
      ],
      "execution_count": 1,
      "outputs": []
    },
    {
      "cell_type": "code",
      "metadata": {
        "id": "oCbf4MVMsyI5",
        "colab_type": "code",
        "colab": {}
      },
      "source": [
        "from google.colab import files\n",
        "uploaded = files.upload()"
      ],
      "execution_count": null,
      "outputs": []
    },
    {
      "cell_type": "code",
      "metadata": {
        "id": "OUN60RWktC0m",
        "colab_type": "code",
        "colab": {}
      },
      "source": [
        "import io\n",
        "matches = pd.read_csv(io.StringIO(uploaded['matches.csv'].decode('utf-8')))"
      ],
      "execution_count": 4,
      "outputs": []
    },
    {
      "cell_type": "code",
      "metadata": {
        "id": "KVlUzfAgtLa2",
        "colab_type": "code",
        "colab": {}
      },
      "source": [
        "matches.info()\n",
        "matches.head()"
      ],
      "execution_count": null,
      "outputs": []
    },
    {
      "cell_type": "code",
      "metadata": {
        "id": "a14iB7-ZtY7y",
        "colab_type": "code",
        "colab": {}
      },
      "source": [
        "matches[pd.isnull(matches['winner'])]"
      ],
      "execution_count": null,
      "outputs": []
    },
    {
      "cell_type": "code",
      "metadata": {
        "id": "kdno_GWCt535",
        "colab_type": "code",
        "colab": {}
      },
      "source": [
        "matches['winner'].fillna('Draw',inplace=True)"
      ],
      "execution_count": 7,
      "outputs": []
    },
    {
      "cell_type": "code",
      "metadata": {
        "id": "-fCVgdmxuNwO",
        "colab_type": "code",
        "colab": {}
      },
      "source": [
        "matches.replace(['Mumbai Indians','Kolkata Knight Riders','Royal Challengers Bangalore','Deccan Chargers','Chennai Super Kings',\n",
        "                 'Rajasthan Royals','Delhi Daredevils','Gujarat Lions','Kings XI Punjab',\n",
        "                 'Sunrisers Hyderabad','Rising Pune Supergiants','Kochi Tuskers Kerala','Pune Warriors']\n",
        "                ,['MI','KKR','RCB','DC','CSK','RR','DD','GL','KXIP','SRH','RPS','KTK','PW'],inplace=True)"
      ],
      "execution_count": 12,
      "outputs": []
    },
    {
      "cell_type": "code",
      "metadata": {
        "id": "6B6sIQBpuqlM",
        "colab_type": "code",
        "colab": {}
      },
      "source": [
        "encode = {'team1': {'MI':1,'KKR':2,'RCB':3,'DC':4,'CSK':5,'RR':6,'DD':7,'GL':8,'KXIP':9,'SRH':10,'RPS':11,'KTK':12,'PW':13},\n",
        "          'team2': {'MI':1,'KKR':2,'RCB':3,'DC':4,'CSK':5,'RR':6,'DD':7,'GL':8,'KXIP':9,'SRH':10,'RPS':11,'KTK':12,'PW':13},\n",
        "          'toss_winner': {'MI':1,'KKR':2,'RCB':3,'DC':4,'CSK':5,'RR':6,'DD':7,'GL':8,'KXIP':9,'SRH':10,'RPS':11,'KTK':12,'PW':13},\n",
        "          'winner': {'MI':1,'KKR':2,'RCB':3,'DC':4,'CSK':5,'RR':6,'DD':7,'GL':8,'KXIP':9,'SRH':10,'RPS':11,'KTK':12,'PW':13,'Draw':14}}\n",
        "matches.replace(encode, inplace=True)"
      ],
      "execution_count": 13,
      "outputs": []
    },
    {
      "cell_type": "code",
      "metadata": {
        "id": "ObDgbGVtvInY",
        "colab_type": "code",
        "colab": {}
      },
      "source": [
        "matches.isna().sum()"
      ],
      "execution_count": null,
      "outputs": []
    },
    {
      "cell_type": "code",
      "metadata": {
        "id": "qkZ9hUNXvQ-v",
        "colab_type": "code",
        "colab": {}
      },
      "source": [
        "matches['city'].fillna('Dubai',inplace=True)"
      ],
      "execution_count": 15,
      "outputs": []
    },
    {
      "cell_type": "code",
      "metadata": {
        "id": "jiOonj9-vbMC",
        "colab_type": "code",
        "colab": {}
      },
      "source": [
        "xx = matches.groupby(['toss_winner']).size()\n",
        "yy = matches.groupby(['winner']).size()"
      ],
      "execution_count": 16,
      "outputs": []
    },
    {
      "cell_type": "code",
      "metadata": {
        "id": "ZHOe-TLExHX7",
        "colab_type": "code",
        "colab": {}
      },
      "source": [
        "dicVal = encode['winner']"
      ],
      "execution_count": 18,
      "outputs": []
    },
    {
      "cell_type": "code",
      "metadata": {
        "id": "7iAtiDWNxbn4",
        "colab_type": "code",
        "colab": {}
      },
      "source": [
        "print(xx)\n",
        "print(yy)\n",
        "print(dicVal)"
      ],
      "execution_count": null,
      "outputs": []
    },
    {
      "cell_type": "code",
      "metadata": {
        "id": "F4eFeSsOxdZN",
        "colab_type": "code",
        "colab": {}
      },
      "source": [
        "matches.head(1)"
      ],
      "execution_count": null,
      "outputs": []
    },
    {
      "cell_type": "code",
      "metadata": {
        "id": "V3qCV14lxm2E",
        "colab_type": "code",
        "colab": {}
      },
      "source": [
        "matches = matches[['team1','team2','city','toss_decision','toss_winner','venue','winner']]"
      ],
      "execution_count": 21,
      "outputs": []
    },
    {
      "cell_type": "code",
      "metadata": {
        "id": "pXKYTMZBxuu0",
        "colab_type": "code",
        "colab": {}
      },
      "source": [
        "df = pd.DataFrame(matches)\n",
        "df.describe()"
      ],
      "execution_count": null,
      "outputs": []
    },
    {
      "cell_type": "code",
      "metadata": {
        "id": "zJtE-Nzpx-S-",
        "colab_type": "code",
        "colab": {}
      },
      "source": [
        "df.head(1)"
      ],
      "execution_count": null,
      "outputs": []
    },
    {
      "cell_type": "code",
      "metadata": {
        "id": "GrWXWBxkyELT",
        "colab_type": "code",
        "colab": {}
      },
      "source": [
        "df['city'].unique()"
      ],
      "execution_count": null,
      "outputs": []
    },
    {
      "cell_type": "code",
      "metadata": {
        "id": "VSCFQtJpyJ-j",
        "colab_type": "code",
        "colab": {}
      },
      "source": [
        "df['venue'].unique()"
      ],
      "execution_count": null,
      "outputs": []
    },
    {
      "cell_type": "code",
      "metadata": {
        "id": "nWbdvXVyyT97",
        "colab_type": "code",
        "colab": {}
      },
      "source": [
        "cat_list = df['city']\n",
        "encoded_data, mapping_index = pd.Series(cat_list).factorize()"
      ],
      "execution_count": 32,
      "outputs": []
    },
    {
      "cell_type": "code",
      "metadata": {
        "id": "zjyDLsmfzj3Q",
        "colab_type": "code",
        "colab": {}
      },
      "source": [
        "cat_list1 = df['venue']\n",
        "encoded_data1, mapping_index1 = pd.Series(cat_list1).factorize()"
      ],
      "execution_count": 31,
      "outputs": []
    },
    {
      "cell_type": "code",
      "metadata": {
        "id": "FyXNi9CDztZo",
        "colab_type": "code",
        "colab": {}
      },
      "source": [
        "cat_list2 = df['toss_decision']\n",
        "encoded_data2, mapping_index2 = pd.Series(cat_list2).factorize()"
      ],
      "execution_count": 34,
      "outputs": []
    },
    {
      "cell_type": "code",
      "metadata": {
        "id": "9cZw1UkK0BNB",
        "colab_type": "code",
        "colab": {}
      },
      "source": [
        "df.isna().sum()"
      ],
      "execution_count": null,
      "outputs": []
    },
    {
      "cell_type": "code",
      "metadata": {
        "id": "u_YMvoEN0dqo",
        "colab_type": "code",
        "colab": {}
      },
      "source": [
        "df.head(1)"
      ],
      "execution_count": null,
      "outputs": []
    },
    {
      "cell_type": "code",
      "metadata": {
        "id": "7Oc9MWik0jS_",
        "colab_type": "code",
        "colab": {}
      },
      "source": [
        "import matplotlib.pyplot as plt\n",
        "\n",
        "temp1=df['toss_winner'].value_counts(sort=True)\n",
        "temp2=df['winner'].value_counts(sort=True)\n",
        "\n",
        "fig = plt.figure(figsize=(8,4))\n",
        "ax1 = fig.add_subplot(121)\n",
        "ax1.set_xlabel('toss_winner')\n",
        "ax1.set_ylabel('Count of toss winners')\n",
        "ax1.set_title('toss winners')\n",
        "temp1.plot(kind='bar')\n",
        "\n",
        "ax2 = fig.add_subplot(122)\n",
        "temp2.plot(kind='bar')\n",
        "ax2.set_xlabel('winner')\n",
        "ax2.set_ylabel('Count of match winners')\n",
        "ax2.set_title('Match winners')"
      ],
      "execution_count": null,
      "outputs": []
    },
    {
      "cell_type": "code",
      "metadata": {
        "id": "w2ioIbxe1NMu",
        "colab_type": "code",
        "colab": {}
      },
      "source": [
        "from sklearn.preprocessing import LabelEncoder\n",
        "var_mod = ['city','toss_decision','venue']\n",
        "le = LabelEncoder()\n",
        "for i in var_mod:\n",
        "  df[i] = le.fit_transform(df[i])"
      ],
      "execution_count": 42,
      "outputs": []
    },
    {
      "cell_type": "code",
      "metadata": {
        "id": "zzhv452E2iXJ",
        "colab_type": "code",
        "colab": {}
      },
      "source": [
        "df.head(1)"
      ],
      "execution_count": null,
      "outputs": []
    },
    {
      "cell_type": "code",
      "metadata": {
        "id": "QnQS7rh32jz-",
        "colab_type": "code",
        "colab": {}
      },
      "source": [
        "from sklearn.linear_model import LogisticRegression\n",
        "from sklearn.ensemble import RandomForestClassifier\n",
        "from sklearn.tree import DecisionTreeClassifier, export_graphviz\n",
        "from sklearn.naive_bayes import GaussianNB\n",
        "from sklearn.neighbors import KNeighborsClassifier\n",
        "from sklearn import svm\n",
        "from sklearn.ensemble import GradientBoostingClassifier\n",
        "from sklearn.model_selection import train_test_split\n",
        "from sklearn import metrics"
      ],
      "execution_count": 45,
      "outputs": []
    },
    {
      "cell_type": "code",
      "metadata": {
        "id": "4ihBczzJ5r7_",
        "colab_type": "code",
        "colab": {}
      },
      "source": [
        "def classification_model_final(model,data,predictors,outcome):\n",
        "  model.fit(data[predictors],data[outcome])\n",
        "  predictions = model.predict(data[predictors])\n",
        "  accuracy = metrics.accuracy_score(predictions,data[outcome])\n",
        "  print('Accuracy : %s' % '{0:.3%}'.format(accuracy))"
      ],
      "execution_count": 72,
      "outputs": []
    },
    {
      "cell_type": "code",
      "metadata": {
        "id": "bNSDhLvm7dvO",
        "colab_type": "code",
        "colab": {}
      },
      "source": [
        "predict_var = ['team1','team2','venue','toss_winner','city','toss_decision'] \n",
        "outcome_var = ['winner']"
      ],
      "execution_count": 73,
      "outputs": []
    },
    {
      "cell_type": "code",
      "metadata": {
        "id": "JN9yDJC278jq",
        "colab_type": "code",
        "colab": {}
      },
      "source": [
        "model = GaussianNB()\n",
        "classification_model_final(model,df,predict_var,outcome_var)"
      ],
      "execution_count": null,
      "outputs": []
    },
    {
      "cell_type": "code",
      "metadata": {
        "id": "_GIeDfgP9oRW",
        "colab_type": "code",
        "colab": {}
      },
      "source": [
        "model = KNeighborsClassifier(n_neighbors=13)\n",
        "classification_model_final(model,df,predict_var,outcome_var)"
      ],
      "execution_count": null,
      "outputs": []
    },
    {
      "cell_type": "code",
      "metadata": {
        "id": "wvwvWu5a9sdu",
        "colab_type": "code",
        "colab": {}
      },
      "source": [
        "model = svm.SVC(kernel='rbf',C=1,gamma=1)\n",
        "classification_model_final(model,df,predict_var,outcome_var)"
      ],
      "execution_count": null,
      "outputs": []
    },
    {
      "cell_type": "code",
      "metadata": {
        "id": "GusDu0O5-CgE",
        "colab_type": "code",
        "colab": {}
      },
      "source": [
        "model = GradientBoostingClassifier(n_estimators=1000,learning_rate=0.1,max_depth=3,random_state=0)\n",
        "classification_model_final(model,df,predict_var,outcome_var)"
      ],
      "execution_count": null,
      "outputs": []
    },
    {
      "cell_type": "code",
      "metadata": {
        "id": "ZeRhP1aJ-bi6",
        "colab_type": "code",
        "colab": {}
      },
      "source": [
        "model = DecisionTreeClassifier()\n",
        "classification_model_final(model,df,predict_var,outcome_var)"
      ],
      "execution_count": null,
      "outputs": []
    },
    {
      "cell_type": "code",
      "metadata": {
        "id": "c03A6529-pvG",
        "colab_type": "code",
        "colab": {}
      },
      "source": [
        "model = RandomForestClassifier(n_estimators=100)\n",
        "classification_model_final(model,df,predict_var,outcome_var)"
      ],
      "execution_count": null,
      "outputs": []
    },
    {
      "cell_type": "code",
      "metadata": {
        "id": "4dYaPOMRAXa5",
        "colab_type": "code",
        "colab": {}
      },
      "source": [
        "df.head(1)"
      ],
      "execution_count": null,
      "outputs": []
    },
    {
      "cell_type": "code",
      "metadata": {
        "id": "zWemsS3yAZr-",
        "colab_type": "code",
        "colab": {}
      },
      "source": [
        "from google.colab import files\n",
        "uploaded = files.upload()"
      ],
      "execution_count": null,
      "outputs": []
    },
    {
      "cell_type": "code",
      "metadata": {
        "id": "rFM-prDfAzwz",
        "colab_type": "code",
        "colab": {}
      },
      "source": [
        "import io\n",
        "testdf = pd.read_csv(io.StringIO(uploaded['test.csv'].decode('utf-8')))"
      ],
      "execution_count": 89,
      "outputs": []
    },
    {
      "cell_type": "code",
      "metadata": {
        "id": "bQJoXCXLBOot",
        "colab_type": "code",
        "colab": {}
      },
      "source": [
        "testdf.drop(['date','winner'],axis=1,inplace=True)"
      ],
      "execution_count": 90,
      "outputs": []
    },
    {
      "cell_type": "code",
      "metadata": {
        "id": "hX5SNjVeBdTK",
        "colab_type": "code",
        "colab": {}
      },
      "source": [
        "testdf.replace(encode,inplace=True)"
      ],
      "execution_count": 91,
      "outputs": []
    },
    {
      "cell_type": "code",
      "metadata": {
        "id": "Shn5BBZbBrYO",
        "colab_type": "code",
        "colab": {}
      },
      "source": [
        "testdf.head(1)"
      ],
      "execution_count": null,
      "outputs": []
    },
    {
      "cell_type": "code",
      "metadata": {
        "id": "RPHg1Fs9Byh1",
        "colab_type": "code",
        "colab": {}
      },
      "source": [
        "predictedtest = model.predict(testdf)"
      ],
      "execution_count": 95,
      "outputs": []
    },
    {
      "cell_type": "code",
      "metadata": {
        "id": "vZnqC6mKCMJD",
        "colab_type": "code",
        "colab": {}
      },
      "source": [
        "predictedtest"
      ],
      "execution_count": null,
      "outputs": []
    },
    {
      "cell_type": "code",
      "metadata": {
        "id": "03o1CZX_CN3K",
        "colab_type": "code",
        "colab": {}
      },
      "source": [
        "model = RandomForestClassifier(n_estimators=100)\n",
        "classification_model_final(model,df,predict_var,outcome_var)"
      ],
      "execution_count": null,
      "outputs": []
    }
  ]
}